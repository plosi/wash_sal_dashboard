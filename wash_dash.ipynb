{
 "cells": [
  {
   "cell_type": "code",
   "execution_count": 6,
   "metadata": {},
   "outputs": [],
   "source": [
    "import pandas as pd\n",
    "import seaborn as sns\n",
    "import plotly.express as px\n",
    "from datetime import datetime as dt\n",
    "from datetime import timedelta"
   ]
  },
  {
   "cell_type": "code",
   "execution_count": 7,
   "metadata": {},
   "outputs": [
    {
     "name": "stderr",
     "output_type": "stream",
     "text": [
      "c:\\Users\\paolo.losi\\_personal\\Coding\\wash_dashboard\\.venv\\Lib\\site-packages\\openpyxl\\worksheet\\_reader.py:329: UserWarning:\n",
      "\n",
      "Data Validation extension is not supported and will be removed\n",
      "\n",
      "c:\\Users\\paolo.losi\\_personal\\Coding\\wash_dashboard\\.venv\\Lib\\site-packages\\openpyxl\\worksheet\\_reader.py:329: UserWarning:\n",
      "\n",
      "Data Validation extension is not supported and will be removed\n",
      "\n",
      "c:\\Users\\paolo.losi\\_personal\\Coding\\wash_dashboard\\.venv\\Lib\\site-packages\\openpyxl\\worksheet\\_reader.py:329: UserWarning:\n",
      "\n",
      "Data Validation extension is not supported and will be removed\n",
      "\n"
     ]
    }
   ],
   "source": [
    "advisors = pd.read_excel('data\\\\database.xlsx', sheet_name='advisors')\n",
    "wash_list = pd.read_excel('data\\\\database.xlsx', sheet_name='wash_list')\n",
    "countries = pd.read_excel('data\\\\database.xlsx', sheet_name='countries')\n",
    "calendar = pd.read_excel('data\\\\database.xlsx', sheet_name='calendar')"
   ]
  },
  {
   "cell_type": "code",
   "execution_count": 8,
   "metadata": {},
   "outputs": [
    {
     "data": {
      "text/html": [
       "<div>\n",
       "<style scoped>\n",
       "    .dataframe tbody tr th:only-of-type {\n",
       "        vertical-align: middle;\n",
       "    }\n",
       "\n",
       "    .dataframe tbody tr th {\n",
       "        vertical-align: top;\n",
       "    }\n",
       "\n",
       "    .dataframe thead th {\n",
       "        text-align: right;\n",
       "    }\n",
       "</style>\n",
       "<table border=\"1\" class=\"dataframe\">\n",
       "  <thead>\n",
       "    <tr style=\"text-align: right;\">\n",
       "      <th></th>\n",
       "      <th>CIA Name</th>\n",
       "      <th>ISO 3166 alpha3</th>\n",
       "      <th>Continent</th>\n",
       "      <th>ta_focal</th>\n",
       "      <th>ta_support</th>\n",
       "    </tr>\n",
       "  </thead>\n",
       "  <tbody>\n",
       "    <tr>\n",
       "      <th>0</th>\n",
       "      <td>Afghanistan</td>\n",
       "      <td>AFG</td>\n",
       "      <td>Asia</td>\n",
       "      <td>Ciaran</td>\n",
       "      <td>Katherine</td>\n",
       "    </tr>\n",
       "    <tr>\n",
       "      <th>1</th>\n",
       "      <td>Bangladesh</td>\n",
       "      <td>BGD</td>\n",
       "      <td>Asia</td>\n",
       "      <td>Ciaran</td>\n",
       "      <td>Katherine</td>\n",
       "    </tr>\n",
       "    <tr>\n",
       "      <th>2</th>\n",
       "      <td>Burkina Faso</td>\n",
       "      <td>BFA</td>\n",
       "      <td>Africa</td>\n",
       "      <td>Franck</td>\n",
       "      <td>NaN</td>\n",
       "    </tr>\n",
       "    <tr>\n",
       "      <th>3</th>\n",
       "      <td>Burundi</td>\n",
       "      <td>BDI</td>\n",
       "      <td>Africa</td>\n",
       "      <td>Franck</td>\n",
       "      <td>NaN</td>\n",
       "    </tr>\n",
       "    <tr>\n",
       "      <th>4</th>\n",
       "      <td>Central African Republic</td>\n",
       "      <td>CAF</td>\n",
       "      <td>Africa</td>\n",
       "      <td>Franck</td>\n",
       "      <td>NaN</td>\n",
       "    </tr>\n",
       "  </tbody>\n",
       "</table>\n",
       "</div>"
      ],
      "text/plain": [
       "                    CIA Name ISO 3166 alpha3 Continent ta_focal ta_support\n",
       "0               Afghanistan              AFG      Asia   Ciaran  Katherine\n",
       "1                Bangladesh              BGD      Asia   Ciaran  Katherine\n",
       "2              Burkina Faso              BFA    Africa   Franck        NaN\n",
       "3                   Burundi              BDI    Africa   Franck        NaN\n",
       "4  Central African Republic              CAF    Africa   Franck        NaN"
      ]
     },
     "execution_count": 8,
     "metadata": {},
     "output_type": "execute_result"
    }
   ],
   "source": [
    "countries.head()"
   ]
  },
  {
   "cell_type": "code",
   "execution_count": 9,
   "metadata": {},
   "outputs": [
    {
     "data": {
      "application/vnd.plotly.v1+json": {
       "config": {
        "plotlyServerURL": "https://plot.ly"
       },
       "data": [
        {
         "colorscale": [
          [
           0,
           "#4A628A"
          ],
          [
           1,
           "#4A628A"
          ]
         ],
         "customdata": [
          [
           "Ciaran",
           "AFG",
           "Ciaran"
          ],
          [
           "Ciaran",
           "BGD",
           "Ciaran"
          ],
          [
           "Ciaran",
           "KEN",
           "Ciaran"
          ],
          [
           "Ciaran",
           "LBN",
           "Ciaran"
          ],
          [
           "Ciaran",
           "PAK",
           "Ciaran"
          ],
          [
           "Ciaran",
           "RWA",
           "Ciaran"
          ],
          [
           "Ciaran",
           "SOM",
           "Ciaran"
          ],
          [
           "Ciaran",
           "SDN",
           "Ciaran"
          ]
         ],
         "geo": "geo",
         "hovertemplate": "<b>%{hovertext}</b><br><br><extra></extra>",
         "hovertext": [
          "Afghanistan ",
          "Bangladesh ",
          "Kenya ",
          "Lebanon ",
          "Pakistan ",
          "Rwanda ",
          "Somalia ",
          "Sudan "
         ],
         "locations": [
          "AFG",
          "BGD",
          "KEN",
          "LBN",
          "PAK",
          "RWA",
          "SOM",
          "SDN"
         ],
         "name": "Ciaran",
         "showlegend": true,
         "showscale": false,
         "type": "choropleth",
         "z": [
          1,
          1,
          1,
          1,
          1,
          1,
          1,
          1
         ]
        },
        {
         "colorscale": [
          [
           0,
           "#7AB2D3"
          ],
          [
           1,
           "#7AB2D3"
          ]
         ],
         "customdata": [
          [
           "Franck",
           "BFA",
           "Franck"
          ],
          [
           "Franck",
           "BDI",
           "Franck"
          ],
          [
           "Franck",
           "CAF",
           "Franck"
          ],
          [
           "Franck",
           "COD",
           "Franck"
          ],
          [
           "Franck",
           "HTI",
           "Franck"
          ],
          [
           "Franck",
           "PRK",
           "Franck"
          ],
          [
           "Franck",
           "LBR",
           "Franck"
          ],
          [
           "Franck",
           "NER",
           "Franck"
          ],
          [
           "Franck",
           "TUR",
           "Franck"
          ]
         ],
         "geo": "geo",
         "hovertemplate": "<b>%{hovertext}</b><br><br><extra></extra>",
         "hovertext": [
          "Burkina Faso ",
          "Burundi ",
          "Central African Republic ",
          "Congo, Democratic Republic of the ",
          "Haiti ",
          "Korea, North ",
          "Liberia ",
          "Niger ",
          "Turkey "
         ],
         "locations": [
          "BFA",
          "BDI",
          "CAF",
          "COD",
          "HTI",
          "PRK",
          "LBR",
          "NER",
          "TUR"
         ],
         "name": "Franck",
         "showlegend": true,
         "showscale": false,
         "type": "choropleth",
         "z": [
          1,
          1,
          1,
          1,
          1,
          1,
          1,
          1,
          1
         ]
        },
        {
         "colorscale": [
          [
           0,
           "#B9E5E8"
          ],
          [
           1,
           "#B9E5E8"
          ]
         ],
         "customdata": [
          [
           "Paolo",
           "TCD",
           "Paolo"
          ],
          [
           "Paolo",
           "ETH",
           "Paolo"
          ],
          [
           "Paolo",
           "IRQ",
           "Paolo"
          ],
          [
           "Paolo",
           "MWI",
           "Paolo"
          ],
          [
           "Paolo",
           "SSD",
           "Paolo"
          ],
          [
           "Paolo",
           "SYR",
           "Paolo"
          ],
          [
           "Paolo",
           "YEM",
           "Paolo"
          ]
         ],
         "geo": "geo",
         "hovertemplate": "<b>%{hovertext}</b><br><br><extra></extra>",
         "hovertext": [
          "Chad ",
          "Ethiopia ",
          "Iraq ",
          "Malawi ",
          "South Sudan ",
          "Syria ",
          "Yemen "
         ],
         "locations": [
          "TCD",
          "ETH",
          "IRQ",
          "MWI",
          "SSD",
          "SYR",
          "YEM"
         ],
         "name": "Paolo",
         "showlegend": true,
         "showscale": false,
         "type": "choropleth",
         "z": [
          1,
          1,
          1,
          1,
          1,
          1,
          1
         ]
        },
        {
         "colorscale": [
          [
           0,
           "#DFF2EB"
          ],
          [
           1,
           "#DFF2EB"
          ]
         ],
         "customdata": [
          [
           "Katherine",
           "SLE",
           "Katherine"
          ]
         ],
         "geo": "geo",
         "hovertemplate": "<b>%{hovertext}</b><br><br><extra></extra>",
         "hovertext": [
          "Sierra Leone "
         ],
         "locations": [
          "SLE"
         ],
         "name": "Katherine",
         "showlegend": true,
         "showscale": false,
         "type": "choropleth",
         "z": [
          1
         ]
        }
       ],
       "layout": {
        "geo": {
         "center": {},
         "domain": {
          "x": [
           0,
           1
          ],
          "y": [
           0,
           1
          ]
         }
        },
        "legend": {
         "title": {
          "text": "Focal Point"
         },
         "tracegroupgap": 0
        },
        "margin": {
         "t": 60
        },
        "template": {
         "data": {
          "bar": [
           {
            "error_x": {
             "color": "#2a3f5f"
            },
            "error_y": {
             "color": "#2a3f5f"
            },
            "marker": {
             "line": {
              "color": "#E5ECF6",
              "width": 0.5
             },
             "pattern": {
              "fillmode": "overlay",
              "size": 10,
              "solidity": 0.2
             }
            },
            "type": "bar"
           }
          ],
          "barpolar": [
           {
            "marker": {
             "line": {
              "color": "#E5ECF6",
              "width": 0.5
             },
             "pattern": {
              "fillmode": "overlay",
              "size": 10,
              "solidity": 0.2
             }
            },
            "type": "barpolar"
           }
          ],
          "carpet": [
           {
            "aaxis": {
             "endlinecolor": "#2a3f5f",
             "gridcolor": "white",
             "linecolor": "white",
             "minorgridcolor": "white",
             "startlinecolor": "#2a3f5f"
            },
            "baxis": {
             "endlinecolor": "#2a3f5f",
             "gridcolor": "white",
             "linecolor": "white",
             "minorgridcolor": "white",
             "startlinecolor": "#2a3f5f"
            },
            "type": "carpet"
           }
          ],
          "choropleth": [
           {
            "colorbar": {
             "outlinewidth": 0,
             "ticks": ""
            },
            "type": "choropleth"
           }
          ],
          "contour": [
           {
            "colorbar": {
             "outlinewidth": 0,
             "ticks": ""
            },
            "colorscale": [
             [
              0,
              "#0d0887"
             ],
             [
              0.1111111111111111,
              "#46039f"
             ],
             [
              0.2222222222222222,
              "#7201a8"
             ],
             [
              0.3333333333333333,
              "#9c179e"
             ],
             [
              0.4444444444444444,
              "#bd3786"
             ],
             [
              0.5555555555555556,
              "#d8576b"
             ],
             [
              0.6666666666666666,
              "#ed7953"
             ],
             [
              0.7777777777777778,
              "#fb9f3a"
             ],
             [
              0.8888888888888888,
              "#fdca26"
             ],
             [
              1,
              "#f0f921"
             ]
            ],
            "type": "contour"
           }
          ],
          "contourcarpet": [
           {
            "colorbar": {
             "outlinewidth": 0,
             "ticks": ""
            },
            "type": "contourcarpet"
           }
          ],
          "heatmap": [
           {
            "colorbar": {
             "outlinewidth": 0,
             "ticks": ""
            },
            "colorscale": [
             [
              0,
              "#0d0887"
             ],
             [
              0.1111111111111111,
              "#46039f"
             ],
             [
              0.2222222222222222,
              "#7201a8"
             ],
             [
              0.3333333333333333,
              "#9c179e"
             ],
             [
              0.4444444444444444,
              "#bd3786"
             ],
             [
              0.5555555555555556,
              "#d8576b"
             ],
             [
              0.6666666666666666,
              "#ed7953"
             ],
             [
              0.7777777777777778,
              "#fb9f3a"
             ],
             [
              0.8888888888888888,
              "#fdca26"
             ],
             [
              1,
              "#f0f921"
             ]
            ],
            "type": "heatmap"
           }
          ],
          "heatmapgl": [
           {
            "colorbar": {
             "outlinewidth": 0,
             "ticks": ""
            },
            "colorscale": [
             [
              0,
              "#0d0887"
             ],
             [
              0.1111111111111111,
              "#46039f"
             ],
             [
              0.2222222222222222,
              "#7201a8"
             ],
             [
              0.3333333333333333,
              "#9c179e"
             ],
             [
              0.4444444444444444,
              "#bd3786"
             ],
             [
              0.5555555555555556,
              "#d8576b"
             ],
             [
              0.6666666666666666,
              "#ed7953"
             ],
             [
              0.7777777777777778,
              "#fb9f3a"
             ],
             [
              0.8888888888888888,
              "#fdca26"
             ],
             [
              1,
              "#f0f921"
             ]
            ],
            "type": "heatmapgl"
           }
          ],
          "histogram": [
           {
            "marker": {
             "pattern": {
              "fillmode": "overlay",
              "size": 10,
              "solidity": 0.2
             }
            },
            "type": "histogram"
           }
          ],
          "histogram2d": [
           {
            "colorbar": {
             "outlinewidth": 0,
             "ticks": ""
            },
            "colorscale": [
             [
              0,
              "#0d0887"
             ],
             [
              0.1111111111111111,
              "#46039f"
             ],
             [
              0.2222222222222222,
              "#7201a8"
             ],
             [
              0.3333333333333333,
              "#9c179e"
             ],
             [
              0.4444444444444444,
              "#bd3786"
             ],
             [
              0.5555555555555556,
              "#d8576b"
             ],
             [
              0.6666666666666666,
              "#ed7953"
             ],
             [
              0.7777777777777778,
              "#fb9f3a"
             ],
             [
              0.8888888888888888,
              "#fdca26"
             ],
             [
              1,
              "#f0f921"
             ]
            ],
            "type": "histogram2d"
           }
          ],
          "histogram2dcontour": [
           {
            "colorbar": {
             "outlinewidth": 0,
             "ticks": ""
            },
            "colorscale": [
             [
              0,
              "#0d0887"
             ],
             [
              0.1111111111111111,
              "#46039f"
             ],
             [
              0.2222222222222222,
              "#7201a8"
             ],
             [
              0.3333333333333333,
              "#9c179e"
             ],
             [
              0.4444444444444444,
              "#bd3786"
             ],
             [
              0.5555555555555556,
              "#d8576b"
             ],
             [
              0.6666666666666666,
              "#ed7953"
             ],
             [
              0.7777777777777778,
              "#fb9f3a"
             ],
             [
              0.8888888888888888,
              "#fdca26"
             ],
             [
              1,
              "#f0f921"
             ]
            ],
            "type": "histogram2dcontour"
           }
          ],
          "mesh3d": [
           {
            "colorbar": {
             "outlinewidth": 0,
             "ticks": ""
            },
            "type": "mesh3d"
           }
          ],
          "parcoords": [
           {
            "line": {
             "colorbar": {
              "outlinewidth": 0,
              "ticks": ""
             }
            },
            "type": "parcoords"
           }
          ],
          "pie": [
           {
            "automargin": true,
            "type": "pie"
           }
          ],
          "scatter": [
           {
            "fillpattern": {
             "fillmode": "overlay",
             "size": 10,
             "solidity": 0.2
            },
            "type": "scatter"
           }
          ],
          "scatter3d": [
           {
            "line": {
             "colorbar": {
              "outlinewidth": 0,
              "ticks": ""
             }
            },
            "marker": {
             "colorbar": {
              "outlinewidth": 0,
              "ticks": ""
             }
            },
            "type": "scatter3d"
           }
          ],
          "scattercarpet": [
           {
            "marker": {
             "colorbar": {
              "outlinewidth": 0,
              "ticks": ""
             }
            },
            "type": "scattercarpet"
           }
          ],
          "scattergeo": [
           {
            "marker": {
             "colorbar": {
              "outlinewidth": 0,
              "ticks": ""
             }
            },
            "type": "scattergeo"
           }
          ],
          "scattergl": [
           {
            "marker": {
             "colorbar": {
              "outlinewidth": 0,
              "ticks": ""
             }
            },
            "type": "scattergl"
           }
          ],
          "scattermapbox": [
           {
            "marker": {
             "colorbar": {
              "outlinewidth": 0,
              "ticks": ""
             }
            },
            "type": "scattermapbox"
           }
          ],
          "scatterpolar": [
           {
            "marker": {
             "colorbar": {
              "outlinewidth": 0,
              "ticks": ""
             }
            },
            "type": "scatterpolar"
           }
          ],
          "scatterpolargl": [
           {
            "marker": {
             "colorbar": {
              "outlinewidth": 0,
              "ticks": ""
             }
            },
            "type": "scatterpolargl"
           }
          ],
          "scatterternary": [
           {
            "marker": {
             "colorbar": {
              "outlinewidth": 0,
              "ticks": ""
             }
            },
            "type": "scatterternary"
           }
          ],
          "surface": [
           {
            "colorbar": {
             "outlinewidth": 0,
             "ticks": ""
            },
            "colorscale": [
             [
              0,
              "#0d0887"
             ],
             [
              0.1111111111111111,
              "#46039f"
             ],
             [
              0.2222222222222222,
              "#7201a8"
             ],
             [
              0.3333333333333333,
              "#9c179e"
             ],
             [
              0.4444444444444444,
              "#bd3786"
             ],
             [
              0.5555555555555556,
              "#d8576b"
             ],
             [
              0.6666666666666666,
              "#ed7953"
             ],
             [
              0.7777777777777778,
              "#fb9f3a"
             ],
             [
              0.8888888888888888,
              "#fdca26"
             ],
             [
              1,
              "#f0f921"
             ]
            ],
            "type": "surface"
           }
          ],
          "table": [
           {
            "cells": {
             "fill": {
              "color": "#EBF0F8"
             },
             "line": {
              "color": "white"
             }
            },
            "header": {
             "fill": {
              "color": "#C8D4E3"
             },
             "line": {
              "color": "white"
             }
            },
            "type": "table"
           }
          ]
         },
         "layout": {
          "annotationdefaults": {
           "arrowcolor": "#2a3f5f",
           "arrowhead": 0,
           "arrowwidth": 1
          },
          "autotypenumbers": "strict",
          "coloraxis": {
           "colorbar": {
            "outlinewidth": 0,
            "ticks": ""
           }
          },
          "colorscale": {
           "diverging": [
            [
             0,
             "#8e0152"
            ],
            [
             0.1,
             "#c51b7d"
            ],
            [
             0.2,
             "#de77ae"
            ],
            [
             0.3,
             "#f1b6da"
            ],
            [
             0.4,
             "#fde0ef"
            ],
            [
             0.5,
             "#f7f7f7"
            ],
            [
             0.6,
             "#e6f5d0"
            ],
            [
             0.7,
             "#b8e186"
            ],
            [
             0.8,
             "#7fbc41"
            ],
            [
             0.9,
             "#4d9221"
            ],
            [
             1,
             "#276419"
            ]
           ],
           "sequential": [
            [
             0,
             "#0d0887"
            ],
            [
             0.1111111111111111,
             "#46039f"
            ],
            [
             0.2222222222222222,
             "#7201a8"
            ],
            [
             0.3333333333333333,
             "#9c179e"
            ],
            [
             0.4444444444444444,
             "#bd3786"
            ],
            [
             0.5555555555555556,
             "#d8576b"
            ],
            [
             0.6666666666666666,
             "#ed7953"
            ],
            [
             0.7777777777777778,
             "#fb9f3a"
            ],
            [
             0.8888888888888888,
             "#fdca26"
            ],
            [
             1,
             "#f0f921"
            ]
           ],
           "sequentialminus": [
            [
             0,
             "#0d0887"
            ],
            [
             0.1111111111111111,
             "#46039f"
            ],
            [
             0.2222222222222222,
             "#7201a8"
            ],
            [
             0.3333333333333333,
             "#9c179e"
            ],
            [
             0.4444444444444444,
             "#bd3786"
            ],
            [
             0.5555555555555556,
             "#d8576b"
            ],
            [
             0.6666666666666666,
             "#ed7953"
            ],
            [
             0.7777777777777778,
             "#fb9f3a"
            ],
            [
             0.8888888888888888,
             "#fdca26"
            ],
            [
             1,
             "#f0f921"
            ]
           ]
          },
          "colorway": [
           "#636efa",
           "#EF553B",
           "#00cc96",
           "#ab63fa",
           "#FFA15A",
           "#19d3f3",
           "#FF6692",
           "#B6E880",
           "#FF97FF",
           "#FECB52"
          ],
          "font": {
           "color": "#2a3f5f"
          },
          "geo": {
           "bgcolor": "white",
           "lakecolor": "white",
           "landcolor": "#E5ECF6",
           "showlakes": true,
           "showland": true,
           "subunitcolor": "white"
          },
          "hoverlabel": {
           "align": "left"
          },
          "hovermode": "closest",
          "mapbox": {
           "style": "light"
          },
          "paper_bgcolor": "white",
          "plot_bgcolor": "#E5ECF6",
          "polar": {
           "angularaxis": {
            "gridcolor": "white",
            "linecolor": "white",
            "ticks": ""
           },
           "bgcolor": "#E5ECF6",
           "radialaxis": {
            "gridcolor": "white",
            "linecolor": "white",
            "ticks": ""
           }
          },
          "scene": {
           "xaxis": {
            "backgroundcolor": "#E5ECF6",
            "gridcolor": "white",
            "gridwidth": 2,
            "linecolor": "white",
            "showbackground": true,
            "ticks": "",
            "zerolinecolor": "white"
           },
           "yaxis": {
            "backgroundcolor": "#E5ECF6",
            "gridcolor": "white",
            "gridwidth": 2,
            "linecolor": "white",
            "showbackground": true,
            "ticks": "",
            "zerolinecolor": "white"
           },
           "zaxis": {
            "backgroundcolor": "#E5ECF6",
            "gridcolor": "white",
            "gridwidth": 2,
            "linecolor": "white",
            "showbackground": true,
            "ticks": "",
            "zerolinecolor": "white"
           }
          },
          "shapedefaults": {
           "line": {
            "color": "#2a3f5f"
           }
          },
          "ternary": {
           "aaxis": {
            "gridcolor": "white",
            "linecolor": "white",
            "ticks": ""
           },
           "baxis": {
            "gridcolor": "white",
            "linecolor": "white",
            "ticks": ""
           },
           "bgcolor": "#E5ECF6",
           "caxis": {
            "gridcolor": "white",
            "linecolor": "white",
            "ticks": ""
           }
          },
          "title": {
           "x": 0.05
          },
          "xaxis": {
           "automargin": true,
           "gridcolor": "white",
           "linecolor": "white",
           "ticks": "",
           "title": {
            "standoff": 15
           },
           "zerolinecolor": "white",
           "zerolinewidth": 2
          },
          "yaxis": {
           "automargin": true,
           "gridcolor": "white",
           "linecolor": "white",
           "ticks": "",
           "title": {
            "standoff": 15
           },
           "zerolinecolor": "white",
           "zerolinewidth": 2
          }
         }
        }
       }
      }
     },
     "metadata": {},
     "output_type": "display_data"
    }
   ],
   "source": [
    "cols = ['#4A628A', '#7AB2D3', '#B9E5E8', '#DFF2EB']\n",
    "hover_data = {\n",
    "    'ta_focal': False,\n",
    "    'ISO 3166 alpha3': False,\n",
    "    'Focal Point': countries.ta_focal,\n",
    "}\n",
    "\n",
    "fig = px.choropleth(\n",
    "    data_frame=countries,\n",
    "    locations='ISO 3166 alpha3',\n",
    "    color='ta_focal',\n",
    "    color_discrete_sequence=cols,\n",
    "    hover_name='CIA Name',\n",
    "    hover_data=hover_data,\n",
    "    labels={'ta_focal': 'Focal Point'}\n",
    ")\n",
    "\n",
    "fig.show()"
   ]
  },
  {
   "cell_type": "code",
   "execution_count": 10,
   "metadata": {},
   "outputs": [
    {
     "data": {
      "text/plain": [
       "array(['Leave Full Day', 'Bank Holiday', 'Conference/Workshop',\n",
       "       'Time In Lieu Full Day', 'Country Support Visit', 'Training',\n",
       "       'Time In Lieu Half Day'], dtype=object)"
      ]
     },
     "execution_count": 10,
     "metadata": {},
     "output_type": "execute_result"
    }
   ],
   "source": [
    "calendar.type.unique()"
   ]
  },
  {
   "cell_type": "code",
   "execution_count": 11,
   "metadata": {},
   "outputs": [
    {
     "data": {
      "application/vnd.plotly.v1+json": {
       "config": {
        "plotlyServerURL": "https://plot.ly"
       },
       "data": [
        {
         "alignmentgroup": "True",
         "base": [
          "2024-12-18T00:00:00",
          "2024-12-30T00:00:00",
          "2024-12-30T00:00:00",
          "2024-12-30T00:00:00",
          "2024-12-30T00:00:00"
         ],
         "customdata": [
          [
           "Leave Full Day",
           "18-Dec-2024",
           "24-Dec-2024"
          ],
          [
           "Leave Full Day",
           "30-Dec-2024",
           "31-Dec-2024"
          ],
          [
           "Leave Full Day",
           "30-Dec-2024",
           "31-Dec-2024"
          ],
          [
           "Leave Full Day",
           "30-Dec-2024",
           "31-Dec-2024"
          ],
          [
           "Leave Full Day",
           "30-Dec-2024",
           "31-Dec-2024"
          ]
         ],
         "hovertemplate": "<b>%{hovertext}</b><br><br>remarks=%{text}<br>from=%{customdata[1]}<br>to=%{customdata[2]}<extra></extra>",
         "hovertext": [
          "Leave Full Day",
          "Leave Full Day",
          "Leave Full Day",
          "Leave Full Day",
          "Leave Full Day"
         ],
         "legendgroup": "Leave Full Day",
         "marker": {
          "color": "#636efa",
          "pattern": {
           "shape": ""
          }
         },
         "name": "Leave Full Day",
         "offsetgroup": "Leave Full Day",
         "orientation": "h",
         "showlegend": true,
         "text": [
          null,
          null,
          null,
          null,
          null
         ],
         "textposition": "inside",
         "type": "bar",
         "x": [
          518400000,
          86400000,
          86400000,
          86400000,
          86400000
         ],
         "xaxis": "x",
         "y": [
          "Paolo",
          "Paolo",
          "Franck",
          "Katherine",
          "Ciaran"
         ],
         "yaxis": "y"
        },
        {
         "alignmentgroup": "True",
         "base": [
          "2024-12-25T00:00:00",
          "2025-01-01T00:00:00",
          "2024-12-25T00:00:00",
          "2025-01-01T00:00:00",
          "2024-12-25T00:00:00",
          "2025-01-01T00:00:00",
          "2024-12-25T00:00:00",
          "2025-01-01T00:00:00"
         ],
         "customdata": [
          [
           "Bank Holiday",
           "25-Dec-2024",
           "27-Dec-2024"
          ],
          [
           "Bank Holiday",
           "01-Jan-2025",
           "01-Jan-2025"
          ],
          [
           "Bank Holiday",
           "25-Dec-2024",
           "27-Dec-2024"
          ],
          [
           "Bank Holiday",
           "01-Jan-2025",
           "01-Jan-2025"
          ],
          [
           "Bank Holiday",
           "25-Dec-2024",
           "27-Dec-2024"
          ],
          [
           "Bank Holiday",
           "01-Jan-2025",
           "01-Jan-2025"
          ],
          [
           "Bank Holiday",
           "25-Dec-2024",
           "27-Dec-2024"
          ],
          [
           "Bank Holiday",
           "01-Jan-2025",
           "01-Jan-2025"
          ]
         ],
         "hovertemplate": "<b>%{hovertext}</b><br><br>remarks=%{text}<br>from=%{customdata[1]}<br>to=%{customdata[2]}<extra></extra>",
         "hovertext": [
          "Bank Holiday",
          "Bank Holiday",
          "Bank Holiday",
          "Bank Holiday",
          "Bank Holiday",
          "Bank Holiday",
          "Bank Holiday",
          "Bank Holiday"
         ],
         "legendgroup": "Bank Holiday",
         "marker": {
          "color": "#EF553B",
          "pattern": {
           "shape": ""
          }
         },
         "name": "Bank Holiday",
         "offsetgroup": "Bank Holiday",
         "orientation": "h",
         "showlegend": true,
         "text": [
          null,
          null,
          null,
          null,
          null,
          null,
          null,
          null
         ],
         "textposition": "inside",
         "type": "bar",
         "x": [
          172800000,
          0,
          172800000,
          0,
          172800000,
          0,
          172800000,
          0
         ],
         "xaxis": "x",
         "y": [
          "Paolo",
          "Paolo",
          "Franck",
          "Franck",
          "Katherine",
          "Katherine",
          "Ciaran",
          "Ciaran"
         ],
         "yaxis": "y"
        },
        {
         "alignmentgroup": "True",
         "base": [
          "2024-11-01T00:00:00",
          "2024-11-01T00:00:00"
         ],
         "customdata": [
          [
           "Conference/Workshop",
           "01-Nov-2024",
           "01-Nov-2024"
          ],
          [
           "Conference/Workshop",
           "01-Nov-2024",
           "08-Nov-2024"
          ]
         ],
         "hovertemplate": "<b>%{hovertext}</b><br><br>remarks=%{text}<br>from=%{customdata[1]}<br>to=%{customdata[2]}<extra></extra>",
         "hovertext": [
          "Conference/Workshop",
          "Conference/Workshop"
         ],
         "legendgroup": "Conference/Workshop",
         "marker": {
          "color": "#00cc96",
          "pattern": {
           "shape": ""
          }
         },
         "name": "Conference/Workshop",
         "offsetgroup": "Conference/Workshop",
         "orientation": "h",
         "showlegend": true,
         "text": [
          "Climate Workshop Kenya",
          "Climate, Health Workshop Kenya"
         ],
         "textposition": "inside",
         "type": "bar",
         "x": [
          0,
          604800000
         ],
         "xaxis": "x",
         "y": [
          "Paolo",
          "Franck"
         ],
         "yaxis": "y"
        },
        {
         "alignmentgroup": "True",
         "base": [
          "2024-11-07T00:00:00",
          "2024-11-13T00:00:00",
          "2024-12-12T00:00:00"
         ],
         "customdata": [
          [
           "Time In Lieu Full Day",
           "07-Nov-2024",
           "08-Nov-2024"
          ],
          [
           "Time In Lieu Full Day",
           "13-Nov-2024",
           "15-Nov-2024"
          ],
          [
           "Time In Lieu Full Day",
           "12-Dec-2024",
           "12-Dec-2024"
          ]
         ],
         "hovertemplate": "<b>%{hovertext}</b><br><br>remarks=%{text}<br>from=%{customdata[1]}<br>to=%{customdata[2]}<extra></extra>",
         "hovertext": [
          "Time In Lieu Full Day",
          "Time In Lieu Full Day",
          "Time In Lieu Full Day"
         ],
         "legendgroup": "Time In Lieu Full Day",
         "marker": {
          "color": "#ab63fa",
          "pattern": {
           "shape": ""
          }
         },
         "name": "Time In Lieu Full Day",
         "offsetgroup": "Time In Lieu Full Day",
         "orientation": "h",
         "showlegend": true,
         "text": [
          null,
          null,
          null
         ],
         "textposition": "inside",
         "type": "bar",
         "x": [
          86400000,
          172800000,
          0
         ],
         "xaxis": "x",
         "y": [
          "Paolo",
          "Katherine",
          "Ciaran"
         ],
         "yaxis": "y"
        },
        {
         "alignmentgroup": "True",
         "base": [
          "2024-11-22T00:00:00",
          "2024-11-01T00:00:00",
          "2024-11-21T00:00:00"
         ],
         "customdata": [
          [
           "Country Support Visit",
           "22-Nov-2024",
           "01-Dec-2024"
          ],
          [
           "Country Support Visit",
           "01-Nov-2024",
           "01-Nov-2024"
          ],
          [
           "Country Support Visit",
           "21-Nov-2024",
           "05-Dec-2024"
          ]
         ],
         "hovertemplate": "<b>%{hovertext}</b><br><br>remarks=%{text}<br>from=%{customdata[1]}<br>to=%{customdata[2]}<extra></extra>",
         "hovertext": [
          "Country Support Visit",
          "Country Support Visit",
          "Country Support Visit"
         ],
         "legendgroup": "Country Support Visit",
         "marker": {
          "color": "#FFA15A",
          "pattern": {
           "shape": ""
          }
         },
         "name": "Country Support Visit",
         "offsetgroup": "Country Support Visit",
         "orientation": "h",
         "showlegend": true,
         "text": [
          "Syria",
          "Ethiopia",
          "Bangladesh"
         ],
         "textposition": "inside",
         "type": "bar",
         "x": [
          777600000,
          0,
          1209600000
         ],
         "xaxis": "x",
         "y": [
          "Franck",
          "Katherine",
          "Ciaran"
         ],
         "yaxis": "y"
        },
        {
         "alignmentgroup": "True",
         "base": [
          "2024-11-06T00:00:00"
         ],
         "customdata": [
          [
           "Training",
           "06-Nov-2024",
           "08-Nov-2024"
          ]
         ],
         "hovertemplate": "<b>%{hovertext}</b><br><br>remarks=%{text}<br>from=%{customdata[1]}<br>to=%{customdata[2]}<extra></extra>",
         "hovertext": [
          "Training"
         ],
         "legendgroup": "Training",
         "marker": {
          "color": "#19d3f3",
          "pattern": {
           "shape": ""
          }
         },
         "name": "Training",
         "offsetgroup": "Training",
         "orientation": "h",
         "showlegend": true,
         "text": [
          "GWR Drilling Course"
         ],
         "textposition": "inside",
         "type": "bar",
         "x": [
          172800000
         ],
         "xaxis": "x",
         "y": [
          "Katherine"
         ],
         "yaxis": "y"
        },
        {
         "alignmentgroup": "True",
         "base": [
          "2024-11-28T00:00:00"
         ],
         "customdata": [
          [
           "Time In Lieu Half Day",
           "28-Nov-2024",
           "28-Nov-2024"
          ]
         ],
         "hovertemplate": "<b>%{hovertext}</b><br><br>remarks=%{text}<br>from=%{customdata[1]}<br>to=%{customdata[2]}<extra></extra>",
         "hovertext": [
          "Time In Lieu Half Day"
         ],
         "legendgroup": "Time In Lieu Half Day",
         "marker": {
          "color": "#FF6692",
          "pattern": {
           "shape": ""
          }
         },
         "name": "Time In Lieu Half Day",
         "offsetgroup": "Time In Lieu Half Day",
         "orientation": "h",
         "showlegend": true,
         "text": [
          null
         ],
         "textposition": "inside",
         "type": "bar",
         "x": [
          0
         ],
         "xaxis": "x",
         "y": [
          "Katherine"
         ],
         "yaxis": "y"
        }
       ],
       "layout": {
        "barmode": "overlay",
        "legend": {
         "title": {
          "text": ""
         },
         "tracegroupgap": 0
        },
        "margin": {
         "t": 60
        },
        "template": {
         "data": {
          "bar": [
           {
            "error_x": {
             "color": "#2a3f5f"
            },
            "error_y": {
             "color": "#2a3f5f"
            },
            "marker": {
             "line": {
              "color": "#E5ECF6",
              "width": 0.5
             },
             "pattern": {
              "fillmode": "overlay",
              "size": 10,
              "solidity": 0.2
             }
            },
            "type": "bar"
           }
          ],
          "barpolar": [
           {
            "marker": {
             "line": {
              "color": "#E5ECF6",
              "width": 0.5
             },
             "pattern": {
              "fillmode": "overlay",
              "size": 10,
              "solidity": 0.2
             }
            },
            "type": "barpolar"
           }
          ],
          "carpet": [
           {
            "aaxis": {
             "endlinecolor": "#2a3f5f",
             "gridcolor": "white",
             "linecolor": "white",
             "minorgridcolor": "white",
             "startlinecolor": "#2a3f5f"
            },
            "baxis": {
             "endlinecolor": "#2a3f5f",
             "gridcolor": "white",
             "linecolor": "white",
             "minorgridcolor": "white",
             "startlinecolor": "#2a3f5f"
            },
            "type": "carpet"
           }
          ],
          "choropleth": [
           {
            "colorbar": {
             "outlinewidth": 0,
             "ticks": ""
            },
            "type": "choropleth"
           }
          ],
          "contour": [
           {
            "colorbar": {
             "outlinewidth": 0,
             "ticks": ""
            },
            "colorscale": [
             [
              0,
              "#0d0887"
             ],
             [
              0.1111111111111111,
              "#46039f"
             ],
             [
              0.2222222222222222,
              "#7201a8"
             ],
             [
              0.3333333333333333,
              "#9c179e"
             ],
             [
              0.4444444444444444,
              "#bd3786"
             ],
             [
              0.5555555555555556,
              "#d8576b"
             ],
             [
              0.6666666666666666,
              "#ed7953"
             ],
             [
              0.7777777777777778,
              "#fb9f3a"
             ],
             [
              0.8888888888888888,
              "#fdca26"
             ],
             [
              1,
              "#f0f921"
             ]
            ],
            "type": "contour"
           }
          ],
          "contourcarpet": [
           {
            "colorbar": {
             "outlinewidth": 0,
             "ticks": ""
            },
            "type": "contourcarpet"
           }
          ],
          "heatmap": [
           {
            "colorbar": {
             "outlinewidth": 0,
             "ticks": ""
            },
            "colorscale": [
             [
              0,
              "#0d0887"
             ],
             [
              0.1111111111111111,
              "#46039f"
             ],
             [
              0.2222222222222222,
              "#7201a8"
             ],
             [
              0.3333333333333333,
              "#9c179e"
             ],
             [
              0.4444444444444444,
              "#bd3786"
             ],
             [
              0.5555555555555556,
              "#d8576b"
             ],
             [
              0.6666666666666666,
              "#ed7953"
             ],
             [
              0.7777777777777778,
              "#fb9f3a"
             ],
             [
              0.8888888888888888,
              "#fdca26"
             ],
             [
              1,
              "#f0f921"
             ]
            ],
            "type": "heatmap"
           }
          ],
          "heatmapgl": [
           {
            "colorbar": {
             "outlinewidth": 0,
             "ticks": ""
            },
            "colorscale": [
             [
              0,
              "#0d0887"
             ],
             [
              0.1111111111111111,
              "#46039f"
             ],
             [
              0.2222222222222222,
              "#7201a8"
             ],
             [
              0.3333333333333333,
              "#9c179e"
             ],
             [
              0.4444444444444444,
              "#bd3786"
             ],
             [
              0.5555555555555556,
              "#d8576b"
             ],
             [
              0.6666666666666666,
              "#ed7953"
             ],
             [
              0.7777777777777778,
              "#fb9f3a"
             ],
             [
              0.8888888888888888,
              "#fdca26"
             ],
             [
              1,
              "#f0f921"
             ]
            ],
            "type": "heatmapgl"
           }
          ],
          "histogram": [
           {
            "marker": {
             "pattern": {
              "fillmode": "overlay",
              "size": 10,
              "solidity": 0.2
             }
            },
            "type": "histogram"
           }
          ],
          "histogram2d": [
           {
            "colorbar": {
             "outlinewidth": 0,
             "ticks": ""
            },
            "colorscale": [
             [
              0,
              "#0d0887"
             ],
             [
              0.1111111111111111,
              "#46039f"
             ],
             [
              0.2222222222222222,
              "#7201a8"
             ],
             [
              0.3333333333333333,
              "#9c179e"
             ],
             [
              0.4444444444444444,
              "#bd3786"
             ],
             [
              0.5555555555555556,
              "#d8576b"
             ],
             [
              0.6666666666666666,
              "#ed7953"
             ],
             [
              0.7777777777777778,
              "#fb9f3a"
             ],
             [
              0.8888888888888888,
              "#fdca26"
             ],
             [
              1,
              "#f0f921"
             ]
            ],
            "type": "histogram2d"
           }
          ],
          "histogram2dcontour": [
           {
            "colorbar": {
             "outlinewidth": 0,
             "ticks": ""
            },
            "colorscale": [
             [
              0,
              "#0d0887"
             ],
             [
              0.1111111111111111,
              "#46039f"
             ],
             [
              0.2222222222222222,
              "#7201a8"
             ],
             [
              0.3333333333333333,
              "#9c179e"
             ],
             [
              0.4444444444444444,
              "#bd3786"
             ],
             [
              0.5555555555555556,
              "#d8576b"
             ],
             [
              0.6666666666666666,
              "#ed7953"
             ],
             [
              0.7777777777777778,
              "#fb9f3a"
             ],
             [
              0.8888888888888888,
              "#fdca26"
             ],
             [
              1,
              "#f0f921"
             ]
            ],
            "type": "histogram2dcontour"
           }
          ],
          "mesh3d": [
           {
            "colorbar": {
             "outlinewidth": 0,
             "ticks": ""
            },
            "type": "mesh3d"
           }
          ],
          "parcoords": [
           {
            "line": {
             "colorbar": {
              "outlinewidth": 0,
              "ticks": ""
             }
            },
            "type": "parcoords"
           }
          ],
          "pie": [
           {
            "automargin": true,
            "type": "pie"
           }
          ],
          "scatter": [
           {
            "fillpattern": {
             "fillmode": "overlay",
             "size": 10,
             "solidity": 0.2
            },
            "type": "scatter"
           }
          ],
          "scatter3d": [
           {
            "line": {
             "colorbar": {
              "outlinewidth": 0,
              "ticks": ""
             }
            },
            "marker": {
             "colorbar": {
              "outlinewidth": 0,
              "ticks": ""
             }
            },
            "type": "scatter3d"
           }
          ],
          "scattercarpet": [
           {
            "marker": {
             "colorbar": {
              "outlinewidth": 0,
              "ticks": ""
             }
            },
            "type": "scattercarpet"
           }
          ],
          "scattergeo": [
           {
            "marker": {
             "colorbar": {
              "outlinewidth": 0,
              "ticks": ""
             }
            },
            "type": "scattergeo"
           }
          ],
          "scattergl": [
           {
            "marker": {
             "colorbar": {
              "outlinewidth": 0,
              "ticks": ""
             }
            },
            "type": "scattergl"
           }
          ],
          "scattermapbox": [
           {
            "marker": {
             "colorbar": {
              "outlinewidth": 0,
              "ticks": ""
             }
            },
            "type": "scattermapbox"
           }
          ],
          "scatterpolar": [
           {
            "marker": {
             "colorbar": {
              "outlinewidth": 0,
              "ticks": ""
             }
            },
            "type": "scatterpolar"
           }
          ],
          "scatterpolargl": [
           {
            "marker": {
             "colorbar": {
              "outlinewidth": 0,
              "ticks": ""
             }
            },
            "type": "scatterpolargl"
           }
          ],
          "scatterternary": [
           {
            "marker": {
             "colorbar": {
              "outlinewidth": 0,
              "ticks": ""
             }
            },
            "type": "scatterternary"
           }
          ],
          "surface": [
           {
            "colorbar": {
             "outlinewidth": 0,
             "ticks": ""
            },
            "colorscale": [
             [
              0,
              "#0d0887"
             ],
             [
              0.1111111111111111,
              "#46039f"
             ],
             [
              0.2222222222222222,
              "#7201a8"
             ],
             [
              0.3333333333333333,
              "#9c179e"
             ],
             [
              0.4444444444444444,
              "#bd3786"
             ],
             [
              0.5555555555555556,
              "#d8576b"
             ],
             [
              0.6666666666666666,
              "#ed7953"
             ],
             [
              0.7777777777777778,
              "#fb9f3a"
             ],
             [
              0.8888888888888888,
              "#fdca26"
             ],
             [
              1,
              "#f0f921"
             ]
            ],
            "type": "surface"
           }
          ],
          "table": [
           {
            "cells": {
             "fill": {
              "color": "#EBF0F8"
             },
             "line": {
              "color": "white"
             }
            },
            "header": {
             "fill": {
              "color": "#C8D4E3"
             },
             "line": {
              "color": "white"
             }
            },
            "type": "table"
           }
          ]
         },
         "layout": {
          "annotationdefaults": {
           "arrowcolor": "#2a3f5f",
           "arrowhead": 0,
           "arrowwidth": 1
          },
          "autotypenumbers": "strict",
          "coloraxis": {
           "colorbar": {
            "outlinewidth": 0,
            "ticks": ""
           }
          },
          "colorscale": {
           "diverging": [
            [
             0,
             "#8e0152"
            ],
            [
             0.1,
             "#c51b7d"
            ],
            [
             0.2,
             "#de77ae"
            ],
            [
             0.3,
             "#f1b6da"
            ],
            [
             0.4,
             "#fde0ef"
            ],
            [
             0.5,
             "#f7f7f7"
            ],
            [
             0.6,
             "#e6f5d0"
            ],
            [
             0.7,
             "#b8e186"
            ],
            [
             0.8,
             "#7fbc41"
            ],
            [
             0.9,
             "#4d9221"
            ],
            [
             1,
             "#276419"
            ]
           ],
           "sequential": [
            [
             0,
             "#0d0887"
            ],
            [
             0.1111111111111111,
             "#46039f"
            ],
            [
             0.2222222222222222,
             "#7201a8"
            ],
            [
             0.3333333333333333,
             "#9c179e"
            ],
            [
             0.4444444444444444,
             "#bd3786"
            ],
            [
             0.5555555555555556,
             "#d8576b"
            ],
            [
             0.6666666666666666,
             "#ed7953"
            ],
            [
             0.7777777777777778,
             "#fb9f3a"
            ],
            [
             0.8888888888888888,
             "#fdca26"
            ],
            [
             1,
             "#f0f921"
            ]
           ],
           "sequentialminus": [
            [
             0,
             "#0d0887"
            ],
            [
             0.1111111111111111,
             "#46039f"
            ],
            [
             0.2222222222222222,
             "#7201a8"
            ],
            [
             0.3333333333333333,
             "#9c179e"
            ],
            [
             0.4444444444444444,
             "#bd3786"
            ],
            [
             0.5555555555555556,
             "#d8576b"
            ],
            [
             0.6666666666666666,
             "#ed7953"
            ],
            [
             0.7777777777777778,
             "#fb9f3a"
            ],
            [
             0.8888888888888888,
             "#fdca26"
            ],
            [
             1,
             "#f0f921"
            ]
           ]
          },
          "colorway": [
           "#636efa",
           "#EF553B",
           "#00cc96",
           "#ab63fa",
           "#FFA15A",
           "#19d3f3",
           "#FF6692",
           "#B6E880",
           "#FF97FF",
           "#FECB52"
          ],
          "font": {
           "color": "#2a3f5f"
          },
          "geo": {
           "bgcolor": "white",
           "lakecolor": "white",
           "landcolor": "#E5ECF6",
           "showlakes": true,
           "showland": true,
           "subunitcolor": "white"
          },
          "hoverlabel": {
           "align": "left"
          },
          "hovermode": "closest",
          "mapbox": {
           "style": "light"
          },
          "paper_bgcolor": "white",
          "plot_bgcolor": "#E5ECF6",
          "polar": {
           "angularaxis": {
            "gridcolor": "white",
            "linecolor": "white",
            "ticks": ""
           },
           "bgcolor": "#E5ECF6",
           "radialaxis": {
            "gridcolor": "white",
            "linecolor": "white",
            "ticks": ""
           }
          },
          "scene": {
           "xaxis": {
            "backgroundcolor": "#E5ECF6",
            "gridcolor": "white",
            "gridwidth": 2,
            "linecolor": "white",
            "showbackground": true,
            "ticks": "",
            "zerolinecolor": "white"
           },
           "yaxis": {
            "backgroundcolor": "#E5ECF6",
            "gridcolor": "white",
            "gridwidth": 2,
            "linecolor": "white",
            "showbackground": true,
            "ticks": "",
            "zerolinecolor": "white"
           },
           "zaxis": {
            "backgroundcolor": "#E5ECF6",
            "gridcolor": "white",
            "gridwidth": 2,
            "linecolor": "white",
            "showbackground": true,
            "ticks": "",
            "zerolinecolor": "white"
           }
          },
          "shapedefaults": {
           "line": {
            "color": "#2a3f5f"
           }
          },
          "ternary": {
           "aaxis": {
            "gridcolor": "white",
            "linecolor": "white",
            "ticks": ""
           },
           "baxis": {
            "gridcolor": "white",
            "linecolor": "white",
            "ticks": ""
           },
           "bgcolor": "#E5ECF6",
           "caxis": {
            "gridcolor": "white",
            "linecolor": "white",
            "ticks": ""
           }
          },
          "title": {
           "x": 0.05
          },
          "xaxis": {
           "automargin": true,
           "gridcolor": "white",
           "linecolor": "white",
           "ticks": "",
           "title": {
            "standoff": 15
           },
           "zerolinecolor": "white",
           "zerolinewidth": 2
          },
          "yaxis": {
           "automargin": true,
           "gridcolor": "white",
           "linecolor": "white",
           "ticks": "",
           "title": {
            "standoff": 15
           },
           "zerolinecolor": "white",
           "zerolinewidth": 2
          }
         }
        },
        "xaxis": {
         "anchor": "y",
         "domain": [
          0,
          1
         ],
         "dtick": 432000000,
         "range": [
          "2024-11-27T20:43:22.551882",
          "2025-01-11T20:43:22.551882"
         ],
         "tickformat": "%d-%b",
         "type": "date"
        },
        "yaxis": {
         "anchor": "x",
         "domain": [
          0,
          1
         ],
         "title": {
          "text": "advisor"
         }
        }
       }
      }
     },
     "metadata": {},
     "output_type": "display_data"
    }
   ],
   "source": [
    "def date_prettify(series):\n",
    "    return f'{series:%d-%b-%Y}'\n",
    "\n",
    "def create_color_col(series):\n",
    "    if series=='Leave Full Day' or series=='Time In Lieu Full Day' or series=='Bank Holiday':\n",
    "        hue = '#FA4032'\n",
    "    elif series=='Leave Half Day' or series=='Time In Lieu Half Day':\n",
    "        hue = '#FA812F'\n",
    "    elif series=='Country Support Visit':\n",
    "        hue='#FCC737'\n",
    "    elif series=='Conference/Workshop' or series=='Training':\n",
    "        hue='#FF2929'\n",
    "    else:\n",
    "        hue='#A6AEBF'\n",
    "    \n",
    "    return hue\n",
    "\n",
    "# calendar['color'] = calendar.type.apply(create_color_col)\n",
    "colors = [\n",
    "    ('Leave Full Day','#FA4032'),('Time In Lieu Full Day','#FA4032'),('Bank Holiday','#FA4032'),\n",
    "    ('Leave Half Day','#FA812F'),('Time In Lieu Half Day','#FA812F'),\n",
    "    ('Conference/Workshop','#FF2929'),('Training','#FF2929')\n",
    "]\n",
    "\n",
    "hover_data={\n",
    "    'start_date':False,\n",
    "    'end_date':False,\n",
    "    'advisor':False,\n",
    "    'type':False,\n",
    "    'from':calendar.start_date.apply(date_prettify),\n",
    "    'to':calendar.end_date.apply(date_prettify),\n",
    "    # 'Remarks':calendar.remarks if ~calendar.remarks.isna() else False\n",
    "    # 'Country':calendar.remarks if calendar[calendar.type=='Country Support Visit'] else False\n",
    "}\n",
    "\n",
    "fig = px.timeline(\n",
    "    data_frame=calendar,\n",
    "    x_start='start_date',\n",
    "    x_end='end_date',\n",
    "    y='advisor',\n",
    "    color='type',\n",
    "    hover_name='type',\n",
    "    hover_data=hover_data,\n",
    "    text='remarks',\n",
    "    range_x=[dt.today() - timedelta(15), dt.today() + timedelta(30)],\n",
    "    labels={'type':''}\n",
    ")\n",
    "fig.update_traces(textposition='inside')\n",
    "fig.update_xaxes(tickformat='%d-%b', dtick=86400000.0*5)\n",
    "\n",
    "fig.show()"
   ]
  },
  {
   "cell_type": "code",
   "execution_count": 28,
   "metadata": {},
   "outputs": [
    {
     "name": "stdout",
     "output_type": "stream",
     "text": [
      "2024 240\n",
      "2025 238\n"
     ]
    }
   ],
   "source": [
    "import numpy as np\n",
    "\n",
    "for year in calendar.start_date.dt.year.unique():\n",
    "    print(year, np.busday_count(f'{year}-01',f'{year}-12'))"
   ]
  },
  {
   "cell_type": "code",
   "execution_count": 33,
   "metadata": {},
   "outputs": [
    {
     "ename": "TypeError",
     "evalue": "Iterator operand 0 dtype could not be cast from dtype('<M8[us]') to dtype('<M8[D]') according to the rule 'safe'",
     "output_type": "error",
     "traceback": [
      "\u001b[1;31m---------------------------------------------------------------------------\u001b[0m",
      "\u001b[1;31mTypeError\u001b[0m                                 Traceback (most recent call last)",
      "Cell \u001b[1;32mIn[33], line 1\u001b[0m\n\u001b[1;32m----> 1\u001b[0m \u001b[43mnp\u001b[49m\u001b[38;5;241;43m.\u001b[39;49m\u001b[43mbusday_count\u001b[49m\u001b[43m(\u001b[49m\u001b[43mcalendar\u001b[49m\u001b[38;5;241;43m.\u001b[39;49m\u001b[43mend_date\u001b[49m\u001b[43m[\u001b[49m\u001b[38;5;241;43m0\u001b[39;49m\u001b[43m]\u001b[49m\u001b[43m,\u001b[49m\u001b[43m \u001b[49m\u001b[43mcalendar\u001b[49m\u001b[38;5;241;43m.\u001b[39;49m\u001b[43mstart_date\u001b[49m\u001b[43m[\u001b[49m\u001b[38;5;241;43m0\u001b[39;49m\u001b[43m]\u001b[49m\u001b[43m)\u001b[49m\n",
      "\u001b[1;31mTypeError\u001b[0m: Iterator operand 0 dtype could not be cast from dtype('<M8[us]') to dtype('<M8[D]') according to the rule 'safe'"
     ]
    }
   ],
   "source": [
    "np.busday_count(calendar.end_date[0], calendar.start_date[0])"
   ]
  },
  {
   "cell_type": "code",
   "execution_count": 34,
   "metadata": {},
   "outputs": [
    {
     "data": {
      "text/plain": [
       "0    2024-12-18\n",
       "1    2024-12-25\n",
       "2    2024-12-30\n",
       "3    2025-01-01\n",
       "4    2024-11-01\n",
       "5    2024-11-07\n",
       "6    2024-11-01\n",
       "7    2024-11-22\n",
       "8    2024-12-25\n",
       "9    2024-12-30\n",
       "10   2025-01-01\n",
       "11   2024-11-01\n",
       "12   2024-11-06\n",
       "13   2024-11-13\n",
       "14   2024-11-28\n",
       "15   2024-12-25\n",
       "16   2024-12-30\n",
       "17   2025-01-01\n",
       "18   2024-11-21\n",
       "19   2024-12-12\n",
       "20   2024-12-25\n",
       "21   2024-12-30\n",
       "22   2025-01-01\n",
       "Name: start_date, dtype: datetime64[ns]"
      ]
     },
     "execution_count": 34,
     "metadata": {},
     "output_type": "execute_result"
    }
   ],
   "source": [
    "calendar.start_date"
   ]
  },
  {
   "cell_type": "code",
   "execution_count": null,
   "metadata": {},
   "outputs": [],
   "source": []
  }
 ],
 "metadata": {
  "kernelspec": {
   "display_name": ".venv",
   "language": "python",
   "name": "python3"
  },
  "language_info": {
   "codemirror_mode": {
    "name": "ipython",
    "version": 3
   },
   "file_extension": ".py",
   "mimetype": "text/x-python",
   "name": "python",
   "nbconvert_exporter": "python",
   "pygments_lexer": "ipython3",
   "version": "3.11.5"
  }
 },
 "nbformat": 4,
 "nbformat_minor": 2
}
